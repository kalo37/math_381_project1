{
 "cells": [
  {
   "cell_type": "code",
   "execution_count": 1,
   "metadata": {
    "collapsed": true
   },
   "outputs": [],
   "source": [
    "# import necessary packages\n",
    "import numpy as np\n",
    "import pandas as pd\n",
    "import math"
   ]
  },
  {
   "cell_type": "code",
   "execution_count": 2,
   "metadata": {
    "collapsed": true
   },
   "outputs": [],
   "source": [
    "d2r = lambda x: x * np.pi / 180 # convert degrees to radians\n",
    "def getDistance(lat1, lon1, lat2, lon2): \n",
    "    \"\"\"Calculate the distance between two (lat,lon) points using 'Haversine' Formula\"\"\"\n",
    "    r = 6371 # radias of earth in km\n",
    "    dLat = d2r(lat2 - lat1)\n",
    "    dLon = d2r(lon2 - lon1)\n",
    "    a = math.sin(dLat/2) * math.sin(dLat/2) + math.cos(d2r(lat1)) \\\n",
    "         * math.cos(d2r(lat2)) * math.sin(dLon/2) * math.sin(dLon/2)\n",
    "    c = 2 * math.atan2(math.sqrt(a), math.sqrt(1-a))\n",
    "    d = r * c # Distance in km\n",
    "    return d"
   ]
  },
  {
   "cell_type": "code",
   "execution_count": 3,
   "metadata": {
    "collapsed": true
   },
   "outputs": [],
   "source": [
    "# read raw csv files\n",
    "gold = pd.read_csv('gold_reserves.csv', header=0)\n",
    "cities = pd.read_csv('country-capitals.csv', header=0)"
   ]
  },
  {
   "cell_type": "code",
   "execution_count": 4,
   "metadata": {
    "collapsed": true
   },
   "outputs": [],
   "source": [
    "gold_dropped = gold[['Country Name', 'Country Code', '2016']] # select only useful columns"
   ]
  },
  {
   "cell_type": "code",
   "execution_count": 5,
   "metadata": {
    "collapsed": true
   },
   "outputs": [],
   "source": [
    "gold_dropped.set_index('Country Code', inplace = True) # set indices using country code"
   ]
  },
  {
   "cell_type": "code",
   "execution_count": 6,
   "metadata": {
    "collapsed": true
   },
   "outputs": [],
   "source": [
    "# select top 50 countries with most gold\n",
    "gold_dropped_sorted = gold_dropped.sort_values('2016', ascending=False).head(50)"
   ]
  },
  {
   "cell_type": "code",
   "execution_count": 7,
   "metadata": {
    "collapsed": true
   },
   "outputs": [],
   "source": [
    "cities_dropped = cities.drop('ContinentName',axis=1) # drop unnecessary columns"
   ]
  },
  {
   "cell_type": "code",
   "execution_count": 8,
   "metadata": {
    "collapsed": true
   },
   "outputs": [],
   "source": [
    "# merge dataframes\n",
    "combined = pd.merge(cities_dropped, gold_dropped_sorted, left_on='CountryName', right_on='Country Name') "
   ]
  },
  {
   "cell_type": "code",
   "execution_count": 9,
   "metadata": {
    "collapsed": true
   },
   "outputs": [],
   "source": [
    "combined.sort_values('2016', inplace=True) # sort by gold amount"
   ]
  },
  {
   "cell_type": "code",
   "execution_count": 10,
   "metadata": {
    "collapsed": true
   },
   "outputs": [],
   "source": [
    "# check which countries need to be fixed due to inconsistent naming\n",
    "missing_countries = []\n",
    "for index, row in gold_dropped_sorted.iterrows():\n",
    "    if row['Country Name'] not in combined.values:\n",
    "        missing_countries.append(row['Country Name'])"
   ]
  },
  {
   "cell_type": "code",
   "execution_count": 11,
   "metadata": {
    "collapsed": true,
    "scrolled": true
   },
   "outputs": [],
   "source": [
    "# fix the country name of Russia\n",
    "gold_dropped_sorted.loc[gold_dropped_sorted['Country Name'] == 'Russian Federation', 'Country Name'] = 'Russia'"
   ]
  },
  {
   "cell_type": "code",
   "execution_count": 12,
   "metadata": {
    "collapsed": true,
    "scrolled": true
   },
   "outputs": [],
   "source": [
    "# create dictionary of country names to be fixed\n",
    "missing_countries_corrected = ['Hong Kong', 'Russia', 'South Korea']\n",
    "correction_dict = dict(zip(missing_countries, missing_countries_corrected))"
   ]
  },
  {
   "cell_type": "code",
   "execution_count": 13,
   "metadata": {
    "collapsed": true
   },
   "outputs": [],
   "source": [
    "# fix the country names\n",
    "for index, row in gold_dropped_sorted.iterrows():\n",
    "    if row['Country Name'] in correction_dict.keys():\n",
    "        gold_dropped_sorted.loc[index, 'Country Name'] = correction_dict[row['Country Name']]"
   ]
  },
  {
   "cell_type": "code",
   "execution_count": 14,
   "metadata": {
    "collapsed": true
   },
   "outputs": [],
   "source": [
    "# re-merge the two tables after fixing the values\n",
    "combined = pd.merge(cities_dropped, gold_dropped_sorted, left_on='CountryName', right_on='Country Name')"
   ]
  },
  {
   "cell_type": "code",
   "execution_count": 15,
   "metadata": {},
   "outputs": [],
   "source": [
    "# manually enter the data for Hong Kong\n",
    "combined.loc[combined['CountryName'] == 'Hong Kong', 'CapitalName'] = 'Hong Kong'\n",
    "combined.loc[combined['CountryName'] == 'Hong Kong', 'CapitalLatitude'] = 22.3964\n",
    "combined.loc[combined['CountryName'] == 'Hong Kong', 'CapitalLongitude'] = 114.1095"
   ]
  },
  {
   "cell_type": "code",
   "execution_count": 16,
   "metadata": {
    "collapsed": true,
    "scrolled": true
   },
   "outputs": [],
   "source": [
    "# sort dataframe by gold amount\n",
    "combined.drop(['Country Name'], inplace = True, axis=1)\n",
    "combined.set_index('CountryCode', inplace=True)\n",
    "combined.sort_values(\"2016\", ascending=False, inplace=True)"
   ]
  },
  {
   "cell_type": "code",
   "execution_count": 17,
   "metadata": {
    "collapsed": true
   },
   "outputs": [],
   "source": [
    "pop = pd.read_csv('world_cities.csv') # read data that contains population for each city"
   ]
  },
  {
   "cell_type": "code",
   "execution_count": 18,
   "metadata": {},
   "outputs": [],
   "source": [
    "# avoid the conflicts with cities that have the same name, make a new datafram that has the correct cities\n",
    "# using the latitude and logitude of the city\n",
    "pop_no_duplicates = pd.DataFrame()\n",
    "tol = 2\n",
    "for idx, row in combined.iterrows():\n",
    "    for idx, p in pop.loc[pop['city'] == row['CapitalName']].iterrows():\n",
    "        if abs(p['lat'] - row['CapitalLatitude']) < tol and abs(p['lng'] - row['CapitalLongitude']) < tol:\n",
    "            pop_no_duplicates = pop_no_duplicates.append(p, ignore_index=True)"
   ]
  },
  {
   "cell_type": "code",
   "execution_count": 19,
   "metadata": {
    "collapsed": true
   },
   "outputs": [],
   "source": [
    "# merge both dataframes\n",
    "combined = pd.merge(left=combined, right=pop_no_duplicates, left_on='CapitalName', right_on='city', how='left')"
   ]
  },
  {
   "cell_type": "code",
   "execution_count": 20,
   "metadata": {},
   "outputs": [],
   "source": [
    "# select only useful columns\n",
    "combined = combined[['CountryName', 'CapitalName', 'CapitalLatitude', 'CapitalLongitude', '2016', 'pop']]"
   ]
  },
  {
   "cell_type": "code",
   "execution_count": 21,
   "metadata": {},
   "outputs": [],
   "source": [
    "# some populations did not get merged due to different names for the same city\n",
    "# create a dictionary with the populations for those cities and add to the dataframe\n",
    "fix_pop = {'Washington DC': 2445216.5, 'Copenhagen': 1085000, 'Kuwait City': 1061532}\n",
    "for idx, row in combined.iterrows():\n",
    "    if row['CapitalName'] in fix_pop.keys():\n",
    "        combined.loc[idx, 'pop'] = fix_pop[row['CapitalName']]"
   ]
  },
  {
   "cell_type": "code",
   "execution_count": 22,
   "metadata": {
    "collapsed": true
   },
   "outputs": [],
   "source": [
    "# output dataframe to csv\n",
    "combined.to_csv('clean_capitals_gold_pop.csv')"
   ]
  },
  {
   "cell_type": "code",
   "execution_count": 23,
   "metadata": {
    "collapsed": true
   },
   "outputs": [],
   "source": [
    "# create headers for the csv file\n",
    "country_names = list(combined.loc[:, 'CountryName'])\n",
    "country_names = [' '] + country_names"
   ]
  },
  {
   "cell_type": "code",
   "execution_count": 24,
   "metadata": {
    "collapsed": true
   },
   "outputs": [],
   "source": [
    "# get lists of longitudes and latitudes\n",
    "latitudes = list(combined.loc[:, 'CapitalLatitude'])\n",
    "longitudes = list(combined.loc[:, 'CapitalLongitude'])"
   ]
  },
  {
   "cell_type": "code",
   "execution_count": 25,
   "metadata": {
    "collapsed": true
   },
   "outputs": [],
   "source": [
    "adjacency_matrix = [country_names] # initialize adjacency matrix, with header"
   ]
  },
  {
   "cell_type": "code",
   "execution_count": 26,
   "metadata": {
    "collapsed": true
   },
   "outputs": [],
   "source": [
    "# zip latitudes and logitudes into (lat, long)\n",
    "lat_lon_pairs = list(zip(latitudes, longitudes))"
   ]
  },
  {
   "cell_type": "code",
   "execution_count": 27,
   "metadata": {
    "collapsed": true
   },
   "outputs": [],
   "source": [
    "# calculate distances for each coordinates-pair, and add to the adjacency matrix\n",
    "for index, pair1 in enumerate(lat_lon_pairs):\n",
    "    temp = [country_names[index + 1]]\n",
    "    for pair2 in lat_lon_pairs:\n",
    "        temp.append(getDistance(pair1[0], pair1[1], pair2[0], pair2[1]))\n",
    "    adjacency_matrix.append(temp)"
   ]
  },
  {
   "cell_type": "code",
   "execution_count": 28,
   "metadata": {
    "collapsed": true
   },
   "outputs": [],
   "source": [
    "# write matrix to file\n",
    "with open('named_distances.csv', 'w') as f:\n",
    "    for elt in adjacency_matrix:\n",
    "        f.write(', '.join(str(v) for v in elt))\n",
    "        f.write('\\n')"
   ]
  }
 ],
 "metadata": {
  "kernelspec": {
   "display_name": "Python 3",
   "language": "python",
   "name": "python3"
  },
  "language_info": {
   "codemirror_mode": {
    "name": "ipython",
    "version": 3
   },
   "file_extension": ".py",
   "mimetype": "text/x-python",
   "name": "python",
   "nbconvert_exporter": "python",
   "pygments_lexer": "ipython3",
   "version": "3.6.2"
  }
 },
 "nbformat": 4,
 "nbformat_minor": 2
}
