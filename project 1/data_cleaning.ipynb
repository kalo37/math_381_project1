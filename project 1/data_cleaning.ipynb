{
 "cells": [
  {
   "cell_type": "code",
   "execution_count": null,
   "metadata": {
    "collapsed": true
   },
   "outputs": [],
   "source": [
    "import numpy as np\n",
    "import pandas as pd\n",
    "import math"
   ]
  },
  {
   "cell_type": "code",
   "execution_count": null,
   "metadata": {
    "collapsed": true
   },
   "outputs": [],
   "source": [
    "d2r = lambda x: x * np.pi / 180 # convert degrees to radians\n",
    "def getDistance(lat1, lon1, lat2, lon2): \n",
    "    \"\"\"Calculate the distance between two (lat,lon) points using 'Haversine' Formula\"\"\"\n",
    "    r = 6371 # radias of earth in km\n",
    "    dLat = d2r(lat2 - lat1)\n",
    "    dLon = d2r(lon2 - lon1)\n",
    "    a = math.sin(dLat/2) * math.sin(dLat/2) + math.cos(d2r(lat1)) \\\n",
    "         * math.cos(d2r(lat2)) * math.sin(dLon/2) * math.sin(dLon/2)\n",
    "    c = 2 * math.atan2(math.sqrt(a), math.sqrt(1-a))\n",
    "    d = r * c # Distance in km\n",
    "    return d"
   ]
  },
  {
   "cell_type": "code",
   "execution_count": null,
   "metadata": {
    "collapsed": false
   },
   "outputs": [],
   "source": [
    "gold = pd.read_csv('gold_reserves.csv', header=0)\n",
    "cities = pd.read_csv('country-capitals.csv', header=0)"
   ]
  },
  {
   "cell_type": "code",
   "execution_count": null,
   "metadata": {
    "collapsed": false
   },
   "outputs": [],
   "source": [
    "gold.head()"
   ]
  },
  {
   "cell_type": "code",
   "execution_count": null,
   "metadata": {
    "collapsed": false
   },
   "outputs": [],
   "source": [
    "gold_dropped = gold[['Country Name', 'Country Code', '2016']]\n",
    "gold_dropped.head()"
   ]
  },
  {
   "cell_type": "code",
   "execution_count": null,
   "metadata": {
    "collapsed": false
   },
   "outputs": [],
   "source": [
    "gold_dropped.count()"
   ]
  },
  {
   "cell_type": "code",
   "execution_count": null,
   "metadata": {
    "collapsed": false
   },
   "outputs": [],
   "source": [
    "gold_dropped.set_index('Country Code', inplace = True)\n",
    "gold_dropped.head()"
   ]
  },
  {
   "cell_type": "code",
   "execution_count": null,
   "metadata": {
    "collapsed": false
   },
   "outputs": [],
   "source": [
    "gold_dropped_sorted = gold_dropped.sort_values('2016', ascending=False).head(50)\n",
    "gold_dropped_sorted.head()"
   ]
  },
  {
   "cell_type": "code",
   "execution_count": null,
   "metadata": {
    "collapsed": false
   },
   "outputs": [],
   "source": [
    "cities.head()"
   ]
  },
  {
   "cell_type": "code",
   "execution_count": null,
   "metadata": {
    "collapsed": true
   },
   "outputs": [],
   "source": [
    "cities_dropped = cities.drop('ContinentName',axis=1)"
   ]
  },
  {
   "cell_type": "code",
   "execution_count": null,
   "metadata": {
    "collapsed": false
   },
   "outputs": [],
   "source": [
    "cities_dropped.head()"
   ]
  },
  {
   "cell_type": "code",
   "execution_count": null,
   "metadata": {
    "collapsed": true
   },
   "outputs": [],
   "source": [
    "combined = pd.merge(cities_dropped, gold_dropped_sorted, left_on='CountryName', right_on='Country Name')"
   ]
  },
  {
   "cell_type": "code",
   "execution_count": null,
   "metadata": {
    "collapsed": false
   },
   "outputs": [],
   "source": [
    "combined.head(10)"
   ]
  },
  {
   "cell_type": "code",
   "execution_count": null,
   "metadata": {
    "collapsed": false
   },
   "outputs": [],
   "source": [
    "# Check if any countries are missing\n",
    "combined.count()"
   ]
  },
  {
   "cell_type": "code",
   "execution_count": null,
   "metadata": {
    "collapsed": true
   },
   "outputs": [],
   "source": [
    "combined.sort_values('2016', inplace=True)"
   ]
  },
  {
   "cell_type": "code",
   "execution_count": null,
   "metadata": {
    "collapsed": false
   },
   "outputs": [],
   "source": [
    "combined.head(10)"
   ]
  },
  {
   "cell_type": "code",
   "execution_count": null,
   "metadata": {
    "collapsed": false
   },
   "outputs": [],
   "source": [
    "gold_dropped_sorted"
   ]
  },
  {
   "cell_type": "code",
   "execution_count": null,
   "metadata": {
    "collapsed": false
   },
   "outputs": [],
   "source": [
    "missing_countries = []\n",
    "for index, row in gold_dropped_sorted.iterrows():\n",
    "    if row['Country Name'] not in combined.values:\n",
    "        missing_countries.append(row['Country Name'])\n",
    "missing_countries # check which countries need to be fixed due to inconsistent naming"
   ]
  },
  {
   "cell_type": "code",
   "execution_count": null,
   "metadata": {
    "collapsed": true,
    "scrolled": true
   },
   "outputs": [],
   "source": [
    "gold_dropped_sorted.loc[gold_dropped_sorted['Country Name'] == 'Russian Federation', 'Country Name'] = 'Russia'"
   ]
  },
  {
   "cell_type": "code",
   "execution_count": null,
   "metadata": {
    "collapsed": true,
    "scrolled": true
   },
   "outputs": [],
   "source": [
    "missing_countries_corrected = ['Hong Kong', 'Russia', 'South Korea']\n",
    "correction_dict = dict(zip(missing_countries, missing_countries_corrected))"
   ]
  },
  {
   "cell_type": "code",
   "execution_count": null,
   "metadata": {
    "collapsed": true
   },
   "outputs": [],
   "source": [
    "for index, row in gold_dropped_sorted.iterrows():\n",
    "    if row['Country Name'] in correction_dict.keys():\n",
    "        gold_dropped_sorted.loc[index, 'Country Name'] = correction_dict[row['Country Name']]"
   ]
  },
  {
   "cell_type": "code",
   "execution_count": null,
   "metadata": {
    "collapsed": true
   },
   "outputs": [],
   "source": [
    "# re-merge the two tables after fixing the values\n",
    "combined = pd.merge(cities_dropped, gold_dropped_sorted, left_on='CountryName', right_on='Country Name')"
   ]
  },
  {
   "cell_type": "code",
   "execution_count": null,
   "metadata": {
    "collapsed": false
   },
   "outputs": [],
   "source": [
    "combined"
   ]
  },
  {
   "cell_type": "code",
   "execution_count": null,
   "metadata": {
    "collapsed": false
   },
   "outputs": [],
   "source": [
    "# manually enter the data for Hong Kong\n",
    "combined.loc[combined['CountryName'] == 'Hong Kong', 'CapitalName'] = 'Hong Kong'\n",
    "combined.loc[combined['CountryName'] == 'Hong Kong', 'CapitalLatitude'] = 22.3964\n",
    "combined.loc[combined['CountryName'] == 'Hong Kong', 'CapitalLongitude'] = 114.1095\n",
    "combined.iloc[49]"
   ]
  },
  {
   "cell_type": "code",
   "execution_count": null,
   "metadata": {
    "collapsed": false,
    "scrolled": true
   },
   "outputs": [],
   "source": [
    "combined.drop(['Country Name'], inplace = True, axis=1)\n",
    "combined.set_index('CountryCode', inplace=True)\n",
    "combined.sort_values(\"2016\", ascending=False, inplace=True)\n",
    "combined.head()\n"
   ]
  },
  {
   "cell_type": "code",
   "execution_count": null,
   "metadata": {
    "collapsed": true
   },
   "outputs": [],
   "source": [
    "combined.to_csv('clean_capitals_gold.csv')"
   ]
  },
  {
   "cell_type": "code",
   "execution_count": null,
   "metadata": {
    "collapsed": false,
    "scrolled": true
   },
   "outputs": [],
   "source": [
    "# make sure latitudes and logitudes are floats\n",
    "combined.dtypes"
   ]
  },
  {
   "cell_type": "code",
   "execution_count": null,
   "metadata": {
    "collapsed": true
   },
   "outputs": [],
   "source": [
    "country_names = list(combined.loc[:, 'CountryName'])\n",
    "country_names = [' '] + country_names"
   ]
  },
  {
   "cell_type": "code",
   "execution_count": null,
   "metadata": {
    "collapsed": true
   },
   "outputs": [],
   "source": [
    "latitudes = list(combined.loc[:, 'CapitalLatitude'])\n",
    "longitudes = list(combined.loc[:, 'CapitalLongitude'])"
   ]
  },
  {
   "cell_type": "code",
   "execution_count": null,
   "metadata": {
    "collapsed": true
   },
   "outputs": [],
   "source": [
    "adjacency_matrix = [country_names] # initialize adjacency matrix, with header"
   ]
  },
  {
   "cell_type": "code",
   "execution_count": null,
   "metadata": {
    "collapsed": false
   },
   "outputs": [],
   "source": [
    "# zip latitudes and logitudes into (lat, long)\n",
    "lat_lon_pairs = list(zip(latitudes, longitudes))\n",
    "lat_lon_pairs"
   ]
  },
  {
   "cell_type": "code",
   "execution_count": null,
   "metadata": {
    "collapsed": true
   },
   "outputs": [],
   "source": [
    "# calculate distances for each coordinates-pair, and add to the adjacency matrix\n",
    "for index, pair1 in enumerate(lat_lon_pairs):\n",
    "    temp = [country_names[index + 1]]\n",
    "    for pair2 in lat_lon_pairs:\n",
    "        temp.append(getDistance(pair1[0], pair1[1], pair2[0], pair2[1]))\n",
    "    adjacency_matrix.append(temp)"
   ]
  },
  {
   "cell_type": "code",
   "execution_count": null,
   "metadata": {
    "collapsed": false
   },
   "outputs": [],
   "source": [
    "adjacency_matrix"
   ]
  },
  {
   "cell_type": "code",
   "execution_count": null,
   "metadata": {
    "collapsed": true
   },
   "outputs": [],
   "source": [
    "# write matrix to file\n",
    "with open('named_distances.csv', 'w') as f:\n",
    "    for elt in adjacency_matrix:\n",
    "        f.write(', '.join(str(v) for v in elt))\n",
    "        f.write('\\n')"
   ]
  },
  {
   "cell_type": "code",
   "execution_count": null,
   "metadata": {
    "collapsed": true
   },
   "outputs": [],
   "source": []
  }
 ],
 "metadata": {
  "kernelspec": {
   "display_name": "Python 3",
   "language": "python",
   "name": "python3"
  },
  "language_info": {
   "codemirror_mode": {
    "name": "ipython",
    "version": 3
   },
   "file_extension": ".py",
   "mimetype": "text/x-python",
   "name": "python",
   "nbconvert_exporter": "python",
   "pygments_lexer": "ipython3",
   "version": "3.6.0"
  }
 },
 "nbformat": 4,
 "nbformat_minor": 2
}
